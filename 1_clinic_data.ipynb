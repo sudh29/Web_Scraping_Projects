{
  "nbformat": 4,
  "nbformat_minor": 0,
  "metadata": {
    "colab": {
      "provenance": []
    },
    "kernelspec": {
      "name": "python3",
      "display_name": "Python 3"
    },
    "language_info": {
      "name": "python"
    }
  },
  "cells": [
    {
      "cell_type": "code",
      "execution_count": 7,
      "metadata": {
        "id": "3hybH6AT_mj8"
      },
      "outputs": [],
      "source": [
        "import requests\n",
        "from bs4 import BeautifulSoup\n",
        "import pandas as pd\n"
      ]
    },
    {
      "cell_type": "code",
      "source": [
        "def get_clinic_name(clinic_id):\n",
        "    url = f\"https://{clinic_id}.portal.athenahealth.com/\"\n",
        "    response = requests.get(url)\n",
        "    html = response.text\n",
        "    soup = BeautifulSoup(html, \"html.parser\")\n",
        "    clinic_name = soup.find_all(\"h1\")[-1].text.strip()\n",
        "    return clinic_name\n"
      ],
      "metadata": {
        "id": "4_XhsSGE_rso"
      },
      "execution_count": 8,
      "outputs": []
    },
    {
      "cell_type": "code",
      "source": [
        "def scrape_clinic_data(start_id, end_id):\n",
        "    clinic_data_list = []\n",
        "\n",
        "    for clinic_id in range(start_id, end_id + 1):\n",
        "        clinic_name = get_clinic_name(clinic_id)\n",
        "\n",
        "        if (\n",
        "            clinic_name != \"Payment Confirmation\"\n",
        "            and  clinic_name != \"\" and clinic_name\n",
        "            != \"Sorry, we can't find that practice. Make sure you typed the right address.\"\n",
        "        ):\n",
        "            clinic_data = {\"clinic_id\": clinic_id, \"clinic_name\": clinic_name}\n",
        "            clinic_data_list.append(clinic_data)\n",
        "\n",
        "    return clinic_data_list\n"
      ],
      "metadata": {
        "id": "UHEO2gxTBnSX"
      },
      "execution_count": 9,
      "outputs": []
    },
    {
      "cell_type": "code",
      "source": [
        "def save_to_csv(data_list, file_name=\"clinic_data.csv\"):\n",
        "    df = pd.DataFrame(data_list)\n",
        "    print(df)\n",
        "    df.to_csv(file_name, index=False)\n",
        "    print(f\"Data saved to {file_name}\")\n"
      ],
      "metadata": {
        "id": "2iMFGFyKBqLh"
      },
      "execution_count": 10,
      "outputs": []
    },
    {
      "cell_type": "code",
      "source": [
        "if __name__ == \"__main__\":\n",
        "    start_clinic_id = 12690\n",
        "    end_clinic_id = 12710\n",
        "\n",
        "    clinic_data = scrape_clinic_data(start_clinic_id, end_clinic_id)"
      ],
      "metadata": {
        "id": "8JKAInFmBsEi"
      },
      "execution_count": 11,
      "outputs": []
    },
    {
      "cell_type": "code",
      "source": [
        "    save_to_csv(clinic_data)"
      ],
      "metadata": {
        "colab": {
          "base_uri": "https://localhost:8080/"
        },
        "id": "6m1gWvzNBwEy",
        "outputId": "f7556852-c017-4313-895a-6a621c80d743"
      },
      "execution_count": 12,
      "outputs": [
        {
          "output_type": "stream",
          "name": "stdout",
          "text": [
            "    clinic_id                                       clinic_name\n",
            "0       12691                                        Ergomedica\n",
            "1       12693                         Altamonte Family Practice\n",
            "2       12694                           Open Health Care Clinic\n",
            "3       12695                            Dr. Richard Handelsman\n",
            "4       12696               Women's CenterforIntegrative Health\n",
            "5       12697                     Eastern Urological Associates\n",
            "6       12702                                  Chand Rohatgi MD\n",
            "7       12704                       Volunteer Healthcare Clinic\n",
            "8       12705                                     Christ Clinic\n",
            "9       12706                            Olga Joukovski, MD, PA\n",
            "10      12707                             Restore Health Clinic\n",
            "11      12708  STUART L. SILVERMAN, M.D., A MEDICAL CORPORATION\n",
            "12      12709                           George E. Weems Clinics\n",
            "Data saved to clinic_data.csv\n"
          ]
        }
      ]
    },
    {
      "cell_type": "code",
      "source": [],
      "metadata": {
        "id": "-YlGJSEqB08R"
      },
      "execution_count": null,
      "outputs": []
    }
  ]
}