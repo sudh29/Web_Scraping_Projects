{
  "nbformat": 4,
  "nbformat_minor": 0,
  "metadata": {
    "colab": {
      "provenance": []
    },
    "kernelspec": {
      "name": "python3",
      "display_name": "Python 3"
    },
    "language_info": {
      "name": "python"
    }
  },
  "cells": [
    {
      "cell_type": "code",
      "execution_count": 1,
      "metadata": {
        "id": "UrUXQI7N-lNT",
        "colab": {
          "base_uri": "https://localhost:8080/"
        },
        "outputId": "73f0c519-972b-41da-c91d-ee9da02db429"
      },
      "outputs": [
        {
          "output_type": "stream",
          "name": "stdout",
          "text": [
            "Collecting selenium\n",
            "  Downloading selenium-4.16.0-py3-none-any.whl (10.0 MB)\n",
            "\u001b[2K     \u001b[90m━━━━━━━━━━━━━━━━━━━━━━━━━━━━━━━━━━━━━━━━\u001b[0m \u001b[32m10.0/10.0 MB\u001b[0m \u001b[31m28.7 MB/s\u001b[0m eta \u001b[36m0:00:00\u001b[0m\n",
            "\u001b[?25hRequirement already satisfied: urllib3[socks]<3,>=1.26 in /usr/local/lib/python3.10/dist-packages (from selenium) (2.0.7)\n",
            "Collecting trio~=0.17 (from selenium)\n",
            "  Downloading trio-0.23.2-py3-none-any.whl (461 kB)\n",
            "\u001b[2K     \u001b[90m━━━━━━━━━━━━━━━━━━━━━━━━━━━━━━━━━━━━━━━━\u001b[0m \u001b[32m461.6/461.6 kB\u001b[0m \u001b[31m33.5 MB/s\u001b[0m eta \u001b[36m0:00:00\u001b[0m\n",
            "\u001b[?25hCollecting trio-websocket~=0.9 (from selenium)\n",
            "  Downloading trio_websocket-0.11.1-py3-none-any.whl (17 kB)\n",
            "Requirement already satisfied: certifi>=2021.10.8 in /usr/local/lib/python3.10/dist-packages (from selenium) (2023.11.17)\n",
            "Requirement already satisfied: attrs>=20.1.0 in /usr/local/lib/python3.10/dist-packages (from trio~=0.17->selenium) (23.1.0)\n",
            "Requirement already satisfied: sortedcontainers in /usr/local/lib/python3.10/dist-packages (from trio~=0.17->selenium) (2.4.0)\n",
            "Requirement already satisfied: idna in /usr/local/lib/python3.10/dist-packages (from trio~=0.17->selenium) (3.6)\n",
            "Collecting outcome (from trio~=0.17->selenium)\n",
            "  Downloading outcome-1.3.0.post0-py2.py3-none-any.whl (10 kB)\n",
            "Requirement already satisfied: sniffio>=1.3.0 in /usr/local/lib/python3.10/dist-packages (from trio~=0.17->selenium) (1.3.0)\n",
            "Requirement already satisfied: exceptiongroup in /usr/local/lib/python3.10/dist-packages (from trio~=0.17->selenium) (1.2.0)\n",
            "Collecting wsproto>=0.14 (from trio-websocket~=0.9->selenium)\n",
            "  Downloading wsproto-1.2.0-py3-none-any.whl (24 kB)\n",
            "Requirement already satisfied: pysocks!=1.5.7,<2.0,>=1.5.6 in /usr/local/lib/python3.10/dist-packages (from urllib3[socks]<3,>=1.26->selenium) (1.7.1)\n",
            "Collecting h11<1,>=0.9.0 (from wsproto>=0.14->trio-websocket~=0.9->selenium)\n",
            "  Downloading h11-0.14.0-py3-none-any.whl (58 kB)\n",
            "\u001b[2K     \u001b[90m━━━━━━━━━━━━━━━━━━━━━━━━━━━━━━━━━━━━━━━━\u001b[0m \u001b[32m58.3/58.3 kB\u001b[0m \u001b[31m5.4 MB/s\u001b[0m eta \u001b[36m0:00:00\u001b[0m\n",
            "\u001b[?25hInstalling collected packages: outcome, h11, wsproto, trio, trio-websocket, selenium\n",
            "Successfully installed h11-0.14.0 outcome-1.3.0.post0 selenium-4.16.0 trio-0.23.2 trio-websocket-0.11.1 wsproto-1.2.0\n",
            "Get:1 http://security.ubuntu.com/ubuntu jammy-security InRelease [110 kB]\n",
            "Get:2 https://cloud.r-project.org/bin/linux/ubuntu jammy-cran40/ InRelease [3,626 B]\n",
            "Hit:3 https://developer.download.nvidia.com/compute/cuda/repos/ubuntu2204/x86_64  InRelease\n",
            "Hit:4 http://archive.ubuntu.com/ubuntu jammy InRelease\n",
            "Get:5 http://archive.ubuntu.com/ubuntu jammy-updates InRelease [119 kB]\n",
            "Get:6 http://security.ubuntu.com/ubuntu jammy-security/main amd64 Packages [1,332 kB]\n",
            "Get:7 http://security.ubuntu.com/ubuntu jammy-security/universe amd64 Packages [1,047 kB]\n",
            "Get:8 http://security.ubuntu.com/ubuntu jammy-security/restricted amd64 Packages [1,582 kB]\n",
            "Get:9 https://ppa.launchpadcontent.net/c2d4u.team/c2d4u4.0+/ubuntu jammy InRelease [18.1 kB]\n",
            "Hit:10 https://ppa.launchpadcontent.net/deadsnakes/ppa/ubuntu jammy InRelease\n",
            "Hit:11 http://archive.ubuntu.com/ubuntu jammy-backports InRelease\n",
            "Hit:12 https://ppa.launchpadcontent.net/graphics-drivers/ppa/ubuntu jammy InRelease\n",
            "Get:13 http://archive.ubuntu.com/ubuntu jammy-updates/restricted amd64 Packages [1,611 kB]\n",
            "Hit:14 https://ppa.launchpadcontent.net/ubuntugis/ppa/ubuntu jammy InRelease\n",
            "Get:15 https://ppa.launchpadcontent.net/c2d4u.team/c2d4u4.0+/ubuntu jammy/main Sources [2,257 kB]\n",
            "Get:16 http://archive.ubuntu.com/ubuntu jammy-updates/universe amd64 Packages [1,307 kB]\n",
            "Get:17 http://archive.ubuntu.com/ubuntu jammy-updates/main amd64 Packages [1,606 kB]\n",
            "Get:18 https://ppa.launchpadcontent.net/c2d4u.team/c2d4u4.0+/ubuntu jammy/main amd64 Packages [1,158 kB]\n",
            "Fetched 12.2 MB in 2s (6,423 kB/s)\n",
            "Reading package lists... Done\n"
          ]
        }
      ],
      "source": [
        "!pip install selenium\n",
        "!apt-get update"
      ]
    },
    {
      "cell_type": "code",
      "source": [
        "from selenium import webdriver\n",
        "from selenium.webdriver.common.by import By\n",
        "from selenium.webdriver.common.keys import Keys\n",
        "import time\n",
        "from bs4 import BeautifulSoup\n"
      ],
      "metadata": {
        "id": "WLHfI6DatJQf"
      },
      "execution_count": 37,
      "outputs": []
    },
    {
      "cell_type": "code",
      "source": [
        "def web_driver():\n",
        "    options = webdriver.ChromeOptions()\n",
        "    options.add_argument(\"--verbose\")\n",
        "    options.add_argument('--no-sandbox')\n",
        "    options.add_argument('--headless')\n",
        "    options.add_argument('--disable-gpu')\n",
        "    options.add_argument(\"--window-size=1920, 1200\")\n",
        "    options.add_argument('--disable-dev-shm-usage')\n",
        "    driver = webdriver.Chrome(options=options)\n",
        "    return driver\n"
      ],
      "metadata": {
        "id": "Zm0QuCgOtQQI"
      },
      "execution_count": 38,
      "outputs": []
    },
    {
      "cell_type": "code",
      "source": [
        "driver = web_driver()\n",
        "driver.get('https://www.youtube.com/@jacksfilms')\n",
        "# driver.quit()\n",
        "\n",
        "for _ in range(2):\n",
        "  driver.find_element(By.TAG_NAME, \"body\").send_keys(Keys.END)\n",
        "  time.sleep(3)\n",
        "  print(\".\")\n",
        "\n",
        "data = driver.page_source\n",
        "soup = BeautifulSoup(data, \"html.parser\")\n",
        "videos = soup.find_all(\"div\",{\"id\":\"dismissible\"})"
      ],
      "metadata": {
        "colab": {
          "base_uri": "https://localhost:8080/"
        },
        "id": "zjH00kZ7vuCR",
        "outputId": "66489eaa-8c36-4989-cae0-df5832651d5c"
      },
      "execution_count": 39,
      "outputs": [
        {
          "output_type": "stream",
          "name": "stdout",
          "text": [
            ".\n",
            ".\n"
          ]
        }
      ]
    },
    {
      "cell_type": "code",
      "source": [
        "print(\"Total videos: \",len(videos))\n",
        "master_list = []\n",
        "\n",
        "for video in videos:\n",
        "  data_dic = {'title': None,'video_url':None,'views': None, 'video_age':None}\n",
        "  title_data = video.find(\"a\",{\"id\":\"video-title\"})\n",
        "  meta = video.find(\"div\",{\"id\":\"metadata-line\"})\n",
        "  if title_data and meta:\n",
        "    data_dic['title'] = title_data.text\n",
        "    data_dic['video_url'] = \"https://www.youtube.com\" + title_data['href']\n",
        "    meta_span = meta.find_all('span')\n",
        "    if len(meta_span)==2:\n",
        "      data_dic['views'] = (meta_span[0].text)\n",
        "      data_dic['video_age'] = (meta_span[1].text)\n",
        "    # print(data_dic)\n",
        "    master_list.append(data_dic)\n",
        "  # break\n"
      ],
      "metadata": {
        "colab": {
          "base_uri": "https://localhost:8080/"
        },
        "id": "06F-Tz5WQO1a",
        "outputId": "a6beac5f-a442-490e-c161-8106b3487c47"
      },
      "execution_count": 44,
      "outputs": [
        {
          "output_type": "stream",
          "name": "stdout",
          "text": [
            "Total videos:  71\n"
          ]
        }
      ]
    },
    {
      "cell_type": "code",
      "source": [
        "import pandas as pd\n",
        "df = pd.DataFrame(master_list)\n",
        "# print(df.to_string(index=False))\n",
        "from google.colab import drive\n",
        "drive.mount('drive')\n"
      ],
      "metadata": {
        "colab": {
          "base_uri": "https://localhost:8080/"
        },
        "id": "Jy07u9X0SRPn",
        "outputId": "ee62f846-3c85-48e6-b89d-619763de409e"
      },
      "execution_count": 49,
      "outputs": [
        {
          "output_type": "stream",
          "name": "stdout",
          "text": [
            "Drive already mounted at drive; to attempt to forcibly remount, call drive.mount(\"drive\", force_remount=True).\n",
            "Data saved to youtube_views\n"
          ]
        }
      ]
    },
    {
      "cell_type": "code",
      "source": [
        "def convert_views(df):\n",
        "  if df['views']:\n",
        "    if 'K' in df['views']:\n",
        "      views = float(df['views'].split('K')[0])*1000\n",
        "      return views\n",
        "    elif 'M' in df['views']:\n",
        "      views = float(df['views'].split('M')[0])*1000000\n",
        "      return views\n",
        "  else:\n",
        "    return 0\n",
        "\n",
        "df['clean_views'] = df.apply(convert_views,axis=1)\n",
        "df['clean_views'] = df['clean_views'].astype(int)\n",
        "print(df)\n"
      ],
      "metadata": {
        "colab": {
          "base_uri": "https://localhost:8080/"
        },
        "id": "mENYN5Hsk1JQ",
        "outputId": "f7dc5af0-1f36-4f5d-a3dd-d51f10cf4580"
      },
      "execution_count": 57,
      "outputs": [
        {
          "output_type": "stream",
          "name": "stdout",
          "text": [
            "                                                title  \\\n",
            "0             Reading my favorite tweets from YouTube   \n",
            "1             Reading my favorite tweets from YouTube   \n",
            "2                 The ACTUALLY GOOD YOUTUBERS Iceberg   \n",
            "3                I hate jumpscares, so I made an app.   \n",
            "4   Sssniperwolf came to our home last night. It's...   \n",
            "..                                                ...   \n",
            "59                          DUBSTEP SOLVES EVERYTHING   \n",
            "60                             EPIC HARRY POTTER SONG   \n",
            "61                                      CENSORED SONG   \n",
            "62           All I Want for Christmas is a Girlfriend   \n",
            "63                          48 Hour Film Fest WINNERS   \n",
            "\n",
            "                                            video_url       views  \\\n",
            "0         https://www.youtube.com/watch?v=vVzA70bWh3g  206K views   \n",
            "1         https://www.youtube.com/watch?v=vVzA70bWh3g  206K views   \n",
            "2         https://www.youtube.com/watch?v=-dcuAAMUicw  671K views   \n",
            "3         https://www.youtube.com/watch?v=NQf8psQT9MQ  341K views   \n",
            "4         https://www.youtube.com/watch?v=aeMHMnOWkw4  4.8M views   \n",
            "..                                                ...         ...   \n",
            "59        https://www.youtube.com/watch?v=ZFQ5EpO7iHk  4.1M views   \n",
            "60        https://www.youtube.com/watch?v=TWXEF_K_b-Q    1M views   \n",
            "61        https://www.youtube.com/watch?v=KGGlKHxYKg4    2M views   \n",
            "62        https://www.youtube.com/watch?v=8U1pAknR_FA  840K views   \n",
            "63  https://www.youtube.com/watch?v=TDZzAbJd1V4&li...        None   \n",
            "\n",
            "       video_age  clean_views  \n",
            "0    3 weeks ago       206000  \n",
            "1    3 weeks ago       206000  \n",
            "2    1 month ago       671000  \n",
            "3    1 month ago       341000  \n",
            "4   2 months ago      4800000  \n",
            "..           ...          ...  \n",
            "59  12 years ago      4099999  \n",
            "60  12 years ago      1000000  \n",
            "61  12 years ago      2000000  \n",
            "62  16 years ago       840000  \n",
            "63          None            0  \n",
            "\n",
            "[64 rows x 5 columns]\n"
          ]
        }
      ]
    },
    {
      "cell_type": "code",
      "source": [
        "df.to_csv('youtube_views.csv')\n",
        "!cp youtube_views.csv \"drive/My Drive/Colab Notebooks\"\n",
        "# df.to_csv('youtube_views', index=False)\n",
        "print(f\"Data saved to youtube_views\")"
      ],
      "metadata": {
        "colab": {
          "base_uri": "https://localhost:8080/"
        },
        "id": "QAt-ca8EmTcX",
        "outputId": "0eb32d49-0f62-42b8-b057-1d63d9e4db44"
      },
      "execution_count": 58,
      "outputs": [
        {
          "output_type": "stream",
          "name": "stdout",
          "text": [
            "Data saved to youtube_views\n"
          ]
        }
      ]
    },
    {
      "cell_type": "code",
      "source": [],
      "metadata": {
        "id": "iYR40-cGm6I8"
      },
      "execution_count": null,
      "outputs": []
    }
  ]
}