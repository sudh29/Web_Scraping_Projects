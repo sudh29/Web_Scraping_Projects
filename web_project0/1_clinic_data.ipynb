{
 "cells": [
  {
   "cell_type": "code",
   "execution_count": 7,
   "metadata": {
    "id": "3hybH6AT_mj8"
   },
   "outputs": [],
   "source": [
    "import requests\n",
    "from bs4 import BeautifulSoup\n",
    "import pandas as pd"
   ]
  },
  {
   "cell_type": "code",
   "execution_count": 8,
   "metadata": {
    "id": "4_XhsSGE_rso"
   },
   "outputs": [],
   "source": [
    "def get_clinic_name(clinic_id):\n",
    "    url = f\"https://{clinic_id}.portal.athenahealth.com/\"\n",
    "    response = requests.get(url)\n",
    "    html = response.text\n",
    "    soup = BeautifulSoup(html, \"html.parser\")\n",
    "    clinic_name = soup.find_all(\"h1\")[-1].text.strip()\n",
    "    return clinic_name"
   ]
  },
  {
   "cell_type": "code",
   "execution_count": 9,
   "metadata": {
    "id": "UHEO2gxTBnSX"
   },
   "outputs": [],
   "source": [
    "def scrape_clinic_data(start_id, end_id):\n",
    "    clinic_data_list = []\n",
    "\n",
    "    for clinic_id in range(start_id, end_id + 1):\n",
    "        clinic_name = get_clinic_name(clinic_id)\n",
    "\n",
    "        if (\n",
    "            clinic_name != \"Payment Confirmation\"\n",
    "            and clinic_name != \"\"\n",
    "            and clinic_name\n",
    "            != \"Sorry, we can't find that practice. Make sure you typed the right address.\"\n",
    "        ):\n",
    "            clinic_data = {\"clinic_id\": clinic_id, \"clinic_name\": clinic_name}\n",
    "            clinic_data_list.append(clinic_data)\n",
    "\n",
    "    return clinic_data_list"
   ]
  },
  {
   "cell_type": "code",
   "execution_count": 10,
   "metadata": {
    "id": "2iMFGFyKBqLh"
   },
   "outputs": [],
   "source": [
    "def save_to_csv(data_list, file_name=\"clinic_data.csv\"):\n",
    "    df = pd.DataFrame(data_list)\n",
    "    print(df)\n",
    "    df.to_csv(file_name, index=False)\n",
    "    print(f\"Data saved to {file_name}\")"
   ]
  },
  {
   "cell_type": "code",
   "execution_count": null,
   "metadata": {
    "id": "8JKAInFmBsEi"
   },
   "outputs": [],
   "source": [
    "if __name__ == \"__main__\":\n",
    "    start_clinic_id = 12690\n",
    "    end_clinic_id = 12710\n",
    "\n",
    "    clinic_data = scrape_clinic_data(start_clinic_id, end_clinic_id)\n",
    "    save_to_csv(clinic_data)"
   ]
  },
  {
   "cell_type": "code",
   "execution_count": null,
   "metadata": {
    "id": "-YlGJSEqB08R"
   },
   "outputs": [],
   "source": []
  }
 ],
 "metadata": {
  "colab": {
   "provenance": []
  },
  "kernelspec": {
   "display_name": "Python 3",
   "name": "python3"
  },
  "language_info": {
   "name": "python"
  }
 },
 "nbformat": 4,
 "nbformat_minor": 0
}
