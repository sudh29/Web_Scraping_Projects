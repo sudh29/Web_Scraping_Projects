{
 "cells": [
  {
   "cell_type": "code",
   "execution_count": 51,
   "metadata": {
    "id": "3hybH6AT_mj8"
   },
   "outputs": [],
   "source": [
    "import requests\n",
    "from bs4 import BeautifulSoup"
   ]
  },
  {
   "cell_type": "code",
   "execution_count": 56,
   "metadata": {
    "id": "6m1gWvzNBwEy"
   },
   "outputs": [],
   "source": [
    "def download_images(site_map_url, num_site_maps=2):\n",
    "    # Get site maps from the main sitemap\n",
    "    response = requests.get(site_map_url)\n",
    "    xml = response.text\n",
    "    soup = BeautifulSoup(xml, \"xml\")\n",
    "    site_maps = [loc.text for loc in soup.find_all(\"loc\") if \"posts\" in loc.text]\n",
    "\n",
    "    # Process a subset of site maps (e.g., first two)\n",
    "    master_list = []\n",
    "    for site_map in site_maps[:num_site_maps]:\n",
    "        response = requests.get(site_map)\n",
    "        soup = BeautifulSoup(response.text, \"xml\")\n",
    "        master_list.extend([loc.text for loc in soup.find_all(\"loc\")])\n",
    "\n",
    "    # Download images\n",
    "    for img_url in master_list:\n",
    "        response = requests.get(img_url)\n",
    "        soup = BeautifulSoup(response.text, \"html.parser\")\n",
    "        png_url = soup.find(\"a\", {\"class\": \"download\"})[\"href\"]\n",
    "        image_title = f\"{img_url.split('/')[-1]}-{png_url.split('/')[-1]}\"\n",
    "        print(image_title)\n",
    "        image = requests.get(png_url)\n",
    "\n",
    "        # Save the image\n",
    "        with open(image_title, \"wb\") as file:\n",
    "            file.write(image.content)\n",
    "\n",
    "        break"
   ]
  },
  {
   "cell_type": "code",
   "execution_count": 57,
   "metadata": {
    "colab": {
     "base_uri": "https://localhost:8080/"
    },
    "id": "9so2mNVxN49N",
    "outputId": "9b65121f-a0af-498a-f32c-84c330a04d50"
   },
   "outputs": [
    {
     "name": "stdout",
     "output_type": "stream",
     "text": [
      "767328-Grand-Theft-Auto-VI-Logo-PNG-Image.png\n"
     ]
    }
   ],
   "source": [
    "if __name__ == \"__main__\":\n",
    "    # Specify the main sitemap URL\n",
    "    main_sitemap_url = \"https://www.pngmart.com/sitemap.xml\"\n",
    "\n",
    "    # Download images from the specified sitemap\n",
    "    download_images(main_sitemap_url)"
   ]
  },
  {
   "cell_type": "code",
   "execution_count": null,
   "metadata": {
    "id": "FLPsi_WTUbbf"
   },
   "outputs": [],
   "source": []
  }
 ],
 "metadata": {
  "colab": {
   "provenance": []
  },
  "kernelspec": {
   "display_name": "Python 3",
   "name": "python3"
  },
  "language_info": {
   "name": "python"
  }
 },
 "nbformat": 4,
 "nbformat_minor": 0
}
